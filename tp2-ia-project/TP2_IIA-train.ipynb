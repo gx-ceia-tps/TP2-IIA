{
 "cells": [
  {
   "cell_type": "code",
   "id": "initial_id",
   "metadata": {
    "collapsed": true,
    "ExecuteTime": {
     "end_time": "2024-08-17T23:35:50.581717Z",
     "start_time": "2024-08-17T23:35:50.577251Z"
    }
   },
   "source": [
    "import pandas as pd\n",
    "import numpy as np\n",
    "import matplotlib.pyplot as plt\n",
    "import seaborn as sns\n",
    "\n",
    "from sklearn.datasets import fetch_california_housing\n",
    "from sklearn.model_selection import train_test_split, cross_val_score\n",
    "from sklearn.preprocessing import StandardScaler, MinMaxScaler\n",
    "from sklearn.metrics import r2_score, mean_absolute_error, mean_squared_error\n",
    "\n",
    "from sklearn.linear_model import LinearRegression, Ridge\n",
    "\n",
    "sns.set()"
   ],
   "outputs": [],
   "execution_count": 59
  },
  {
   "metadata": {
    "ExecuteTime": {
     "end_time": "2024-08-17T22:54:06.775724Z",
     "start_time": "2024-08-17T22:54:06.761489Z"
    }
   },
   "cell_type": "code",
   "source": [
    "# Leemos el dataset\n",
    "california_housing = fetch_california_housing()\n",
    "\n",
    "# Y obtenemos los atributos y target\n",
    "X = california_housing.data\n",
    "y = california_housing.target\n",
    "\n",
    "# Transformamos en Pandas\n",
    "X = pd.DataFrame(X, columns=california_housing['feature_names'])\n",
    "y = pd.Series(y, name=california_housing['target_names'][0])\n",
    "\n",
    "# Unimos a X e y, esto ayuda a la parte de la gráfica del mapa de calor de correlación\n",
    "df_california = pd.concat([X, y], axis=1)"
   ],
   "id": "8a01664e6782f0a0",
   "outputs": [],
   "execution_count": 9
  },
  {
   "metadata": {
    "ExecuteTime": {
     "end_time": "2024-08-17T22:54:06.818012Z",
     "start_time": "2024-08-17T22:54:06.811050Z"
    }
   },
   "cell_type": "code",
   "source": "X_train, X_test, y_train, y_test = train_test_split(X,  y, test_size=0.3, random_state=42)",
   "id": "a75d09a05ca7bcb4",
   "outputs": [],
   "execution_count": 10
  },
  {
   "metadata": {
    "ExecuteTime": {
     "end_time": "2024-08-17T22:54:06.864849Z",
     "start_time": "2024-08-17T22:54:06.854429Z"
    }
   },
   "cell_type": "code",
   "source": [
    "# Escalemos los datos\n",
    "scaler = StandardScaler()\n",
    "X_train_scaled = scaler.fit_transform(X_train)\n",
    "X_test_scaled = scaler.transform(X_test)\n",
    "\n",
    "# Lo transformemos en DataFrames\n",
    "X_train_scaled = pd.DataFrame(X_train_scaled, columns=california_housing['feature_names'])\n",
    "X_test_scaled = pd.DataFrame(X_test_scaled, columns=california_housing['feature_names'])"
   ],
   "id": "99268f7a809cb0f6",
   "outputs": [],
   "execution_count": 11
  },
  {
   "metadata": {
    "ExecuteTime": {
     "end_time": "2024-08-17T22:54:06.943905Z",
     "start_time": "2024-08-17T22:54:06.906495Z"
    }
   },
   "cell_type": "code",
   "source": [
    "# Creamos un modelo\n",
    "alpha = 1.0\n",
    "ridge_model = Ridge(alpha=alpha)\n",
    "\n",
    "# Este la forma que se implementa en scikit-learn\n",
    "cv = cross_val_score(ridge_model, X_train_scaled, y=y_train, scoring=\"neg_mean_squared_error\", cv=5, n_jobs=-1)\n",
    "\n",
    "# Este calculo nos devuelve el valor de MSE para cada una de los folds\n",
    "# cv\n"
   ],
   "id": "a1cc82d9a0c704b0",
   "outputs": [],
   "execution_count": 12
  },
  {
   "metadata": {
    "ExecuteTime": {
     "end_time": "2024-08-17T22:54:06.976446Z",
     "start_time": "2024-08-17T22:54:06.972445Z"
    }
   },
   "cell_type": "code",
   "source": [
    "# Podemos obtener el valor medio y desvio estandar de cada caso:\n",
    "print(f\"La media del MSE en 5-fold CV para la regresión Ridge con alpha={alpha} es {(-1)*cv.mean()}\")\n",
    "print(f\"El desvío estándar del MSE en 5-fold CV para la regresión Ridge con alpha={alpha} es {cv.std()}\")"
   ],
   "id": "30230df8e678c17b",
   "outputs": [
    {
     "name": "stdout",
     "output_type": "stream",
     "text": [
      "La media del MSE en 5-fold CV para la regresión Ridge con alpha=1.0 es 0.5268231539349313\n",
      "El desvío estándar del MSE en 5-fold CV para la regresión Ridge con alpha=1.0 es 0.018742809748334553\n"
     ]
    }
   ],
   "execution_count": 13
  },
  {
   "metadata": {},
   "cell_type": "markdown",
   "source": "## 3. Calcular la regresión lineal usando todos los atributos. Con el set de entrenamiento, calcular la varianza total del modelo y la que es explicada con el modelo. ¿El modelo está capturando el comportamiento del target? Expanda su respuesta.",
   "id": "e5fa820f4bcb4a66"
  },
  {
   "metadata": {
    "ExecuteTime": {
     "end_time": "2024-08-17T23:18:51.116696Z",
     "start_time": "2024-08-17T23:18:51.108327Z"
    }
   },
   "cell_type": "code",
   "source": [
    "lin_reg = LinearRegression()\n",
    "lin_reg.fit(X_train, y_train)\n",
    "\n",
    "# Predicciones en el conjunto de entrenamiento\n",
    "y_train_pred = lin_reg.predict(X_train)\n"
   ],
   "id": "d77493d92e059980",
   "outputs": [],
   "execution_count": 38
  },
  {
   "metadata": {
    "ExecuteTime": {
     "end_time": "2024-08-17T23:30:17.891975Z",
     "start_time": "2024-08-17T23:30:17.886628Z"
    }
   },
   "cell_type": "code",
   "source": [
    "S_e = np.var(y_train-y_train_pred)\n",
    "S_t = np.var(y_train_pred)\n",
    "S_r = S_t - S_e\n",
    "print('S_e=', f'{S_e:.3g}')\n",
    "print('S_t=', f'{S_t:.3g}')\n",
    "print('S_r=', f'{S_r:.3g}')\n",
    "# S_r, S_e, S_t"
   ],
   "id": "d559721261ca47ef",
   "outputs": [
    {
     "name": "stdout",
     "output_type": "stream",
     "text": [
      "S_e= 0.523\n",
      "S_t= 0.816\n",
      "S_r= 0.293\n"
     ]
    }
   ],
   "execution_count": 52
  },
  {
   "metadata": {},
   "cell_type": "markdown",
   "source": "## 4.  Calcular las métricas de MSE, MAE y R2 del set de evaluación.",
   "id": "ff77982d2d6b49b7"
  },
  {
   "metadata": {
    "ExecuteTime": {
     "end_time": "2024-08-17T23:36:02.661442Z",
     "start_time": "2024-08-17T23:36:02.652038Z"
    }
   },
   "cell_type": "code",
   "source": [
    "y_test_pred = lin_reg.predict(X_test)\n",
    "mse = mean_squared_error(y_test, y_test_pred)\n",
    "mae = mean_absolute_error(y_test, y_test_pred)\n",
    "r2 = r2_score(y_test, y_test_pred)\n",
    "print(r2_score)\n",
    "print('mse=', f'{mse:.3g}')\n",
    "print('mae=', f'{mae:.3g}')\n",
    "print('r2=', f'{r2:.3g}')"
   ],
   "id": "5ef61f2463a77093",
   "outputs": [
    {
     "name": "stdout",
     "output_type": "stream",
     "text": [
      "<function r2_score at 0x7ed254360430>\n",
      "mse= 0.531\n",
      "mae= 0.527\n",
      "r2= 0.596\n"
     ]
    }
   ],
   "execution_count": 61
  },
  {
   "metadata": {},
   "cell_type": "markdown",
   "source": "## 5.   Crear una regresión de Ridge. Usando una validación cruzada de 5-folds y usando como métrica el MSE, calcular el mejor valor de α, buscando entre [0, 12.5]. Graficar el valor de MSE versus α",
   "id": "fa4120ed116bab65"
  },
  {
   "metadata": {
    "ExecuteTime": {
     "end_time": "2024-08-17T23:06:01.358177Z",
     "start_time": "2024-08-17T23:05:57.429845Z"
    }
   },
   "cell_type": "code",
   "source": [
    "alpha_values = np.linspace(0, 12.5, 100)\n",
    "MSE = np.array([])\n",
    "for alpha in alpha_values:\n",
    "    ridge_model = Ridge(alpha=alpha)\n",
    "    cv = cross_val_score(ridge_model, X_train_scaled, y=y_train, scoring=\"neg_mean_squared_error\", cv=5, n_jobs=-1)\n",
    "    mse = -cv.mean()\n",
    "    MSE = np.append(MSE, mse)\n",
    "\n",
    "idx = np.argmin(MSE)\n",
    "best_alpha = alpha_values[idx]\n",
    "best_mse = MSE[idx]\n",
    "plt.plot(alpha_values, MSE)\n",
    "plt.title('Alpha vs MSE')\n",
    "plt.plot(best_alpha, best_mse, label=f'Mínimo:  MSE:{best_mse:.4g} Alpha:{best_alpha:.4g}', marker='o')\n",
    "plt.legend()\n"
   ],
   "id": "a9a63ac3e63bda5a",
   "outputs": [
    {
     "data": {
      "text/plain": [
       "<matplotlib.legend.Legend at 0x7ed1f9724fd0>"
      ]
     },
     "execution_count": 29,
     "metadata": {},
     "output_type": "execute_result"
    },
    {
     "data": {
      "text/plain": [
       "<Figure size 640x480 with 1 Axes>"
      ],
      "image/png": "[encoded data removed]"
     },
     "metadata": {},
     "output_type": "display_data"
    }
   ],
   "execution_count": 29
  },
  {
   "metadata": {
    "ExecuteTime": {
     "end_time": "2024-08-17T22:54:11.150345Z",
     "start_time": "2024-08-17T22:54:11.147981Z"
    }
   },
   "cell_type": "code",
   "source": "",
   "id": "1cc34bc18143a32f",
   "outputs": [],
   "execution_count": null
  },
  {
   "metadata": {},
   "cell_type": "markdown",
   "source": [
    "## 6.   Comparar, entre la regresión lineal y la mejor regresión de Ridge, los resultados obtenidos en el set de evaluación. ¿Cuál da mejores resultados (usando MSE y MAE)? Conjeturar por qué el mejor modelo mejora. ¿Qué error puede haberse reducido?\n",
    "\n"
   ],
   "id": "dd8a7a2371d4664a"
  },
  {
   "metadata": {
    "ExecuteTime": {
     "end_time": "2024-08-17T23:44:02.504896Z",
     "start_time": "2024-08-17T23:44:02.484750Z"
    }
   },
   "cell_type": "code",
   "source": [
    "df = pd.DataFrame()\n",
    "for name, model in zip(['Ridge', 'Regresión Lineal'],[Ridge(alpha=best_alpha), LinearRegression()]):\n",
    "    model.fit(X_train, y_train)\n",
    "    y_test_pred = model.predict(X_test)\n",
    "    mse = mean_squared_error(y_test, y_test_pred)\n",
    "    mae = mean_absolute_error(y_test, y_test_pred)\n",
    "    r2 = r2_score(y_test, y_test_pred)\n",
    "    row = {\n",
    "        'Model': name,\n",
    "        'MSE': mse,\n",
    "        'MAE': mae,\n",
    "        # 'R2': r2\n",
    "    }\n",
    "    \n",
    "    df = pd.concat([df, pd.DataFrame([row])], ignore_index=True)\n",
    "df"
   ],
   "id": "52af2c63705acbe2",
   "outputs": [
    {
     "data": {
      "text/plain": [
       "              Model       MSE       MAE\n",
       "0             Ridge  0.530169  0.527302\n",
       "1  Regresión Lineal  0.530568  0.527247"
      ],
      "text/html": [
       "<div>\n",
       "<style scoped>\n",
       "    .dataframe tbody tr th:only-of-type {\n",
       "        vertical-align: middle;\n",
       "    }\n",
       "\n",
       "    .dataframe tbody tr th {\n",
       "        vertical-align: top;\n",
       "    }\n",
       "\n",
       "    .dataframe thead th {\n",
       "        text-align: right;\n",
       "    }\n",
       "</style>\n",
       "<table border=\"1\" class=\"dataframe\">\n",
       "  <thead>\n",
       "    <tr style=\"text-align: right;\">\n",
       "      <th></th>\n",
       "      <th>Model</th>\n",
       "      <th>MSE</th>\n",
       "      <th>MAE</th>\n",
       "    </tr>\n",
       "  </thead>\n",
       "  <tbody>\n",
       "    <tr>\n",
       "      <th>0</th>\n",
       "      <td>Ridge</td>\n",
       "      <td>0.530169</td>\n",
       "      <td>0.527302</td>\n",
       "    </tr>\n",
       "    <tr>\n",
       "      <th>1</th>\n",
       "      <td>Regresión Lineal</td>\n",
       "      <td>0.530568</td>\n",
       "      <td>0.527247</td>\n",
       "    </tr>\n",
       "  </tbody>\n",
       "</table>\n",
       "</div>"
      ]
     },
     "execution_count": 72,
     "metadata": {},
     "output_type": "execute_result"
    }
   ],
   "execution_count": 72
  }
 ],
 "metadata": {
  "kernelspec": {
   "display_name": "Python 3",
   "language": "python",
   "name": "python3"
  },
  "language_info": {
   "codemirror_mode": {
    "name": "ipython",
    "version": 2
   },
   "file_extension": ".py",
   "mimetype": "text/x-python",
   "name": "python",
   "nbconvert_exporter": "python",
   "pygments_lexer": "ipython2",
   "version": "2.7.6"
  }
 },
 "nbformat": 4,
 "nbformat_minor": 5
}
