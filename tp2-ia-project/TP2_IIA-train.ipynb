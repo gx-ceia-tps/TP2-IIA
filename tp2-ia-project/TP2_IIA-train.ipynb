{
 "cells": [
  {
   "cell_type": "code",
   "id": "initial_id",
   "metadata": {
    "collapsed": true,
    "ExecuteTime": {
     "end_time": "2024-08-18T23:48:56.479399Z",
     "start_time": "2024-08-18T23:48:56.312184Z"
    }
   },
   "source": [
    "import pandas as pd\n",
    "import numpy as np\n",
    "import matplotlib.pyplot as plt\n",
    "import seaborn as sns\n",
    "\n",
    "from sklearn.datasets import fetch_california_housing\n",
    "from sklearn.model_selection import train_test_split, cross_val_score\n",
    "from sklearn.preprocessing import StandardScaler, MinMaxScaler\n",
    "from sklearn.metrics import r2_score, mean_absolute_error, mean_squared_error\n",
    "\n",
    "from sklearn.linear_model import LinearRegression, Ridge\n",
    "\n",
    "sns.set()"
   ],
   "outputs": [],
   "execution_count": 1
  },
  {
   "metadata": {
    "ExecuteTime": {
     "end_time": "2024-08-18T23:48:56.603468Z",
     "start_time": "2024-08-18T23:48:56.592210Z"
    }
   },
   "cell_type": "code",
   "source": [
    "# Leemos el dataset\n",
    "california_housing = fetch_california_housing()\n",
    "\n",
    "# Y obtenemos los atributos y target\n",
    "X = california_housing.data\n",
    "y = california_housing.target\n",
    "\n",
    "# Transformamos en Pandas\n",
    "X = pd.DataFrame(X, columns=california_housing['feature_names'])\n",
    "y = pd.Series(y, name=california_housing['target_names'][0])\n",
    "\n",
    "# Unimos a X e y, esto ayuda a la parte de la gráfica del mapa de calor de correlación\n",
    "df_california = pd.concat([X, y], axis=1)"
   ],
   "id": "8a01664e6782f0a0",
   "outputs": [],
   "execution_count": 2
  },
  {
   "metadata": {
    "ExecuteTime": {
     "end_time": "2024-08-18T23:48:56.640678Z",
     "start_time": "2024-08-18T23:48:56.635254Z"
    }
   },
   "cell_type": "code",
   "source": "X_train, X_test, y_train, y_test = train_test_split(X,  y, test_size=0.3, random_state=42)",
   "id": "a75d09a05ca7bcb4",
   "outputs": [],
   "execution_count": 3
  },
  {
   "metadata": {
    "ExecuteTime": {
     "end_time": "2024-08-18T23:48:56.691839Z",
     "start_time": "2024-08-18T23:48:56.683777Z"
    }
   },
   "cell_type": "code",
   "source": [
    "# Escalemos los datos\n",
    "scaler = StandardScaler()\n",
    "X_train_scaled = scaler.fit_transform(X_train)\n",
    "X_test_scaled = scaler.transform(X_test)\n",
    "\n",
    "# Lo transformemos en DataFrames\n",
    "X_train_scaled = pd.DataFrame(X_train_scaled, columns=california_housing['feature_names'])\n",
    "X_test_scaled = pd.DataFrame(X_test_scaled, columns=california_housing['feature_names'])"
   ],
   "id": "99268f7a809cb0f6",
   "outputs": [],
   "execution_count": 4
  },
  {
   "metadata": {},
   "cell_type": "markdown",
   "source": "## 3. Calcular la regresión lineal usando todos los atributos. Con el set de entrenamiento, calcular la varianza total del modelo y la que es explicada con el modelo. ¿El modelo está capturando el comportamiento del target? Expanda su respuesta.",
   "id": "e5fa820f4bcb4a66"
  },
  {
   "metadata": {
    "ExecuteTime": {
     "end_time": "2024-08-18T23:48:56.739718Z",
     "start_time": "2024-08-18T23:48:56.731847Z"
    }
   },
   "cell_type": "code",
   "source": [
    "lin_reg = LinearRegression()\n",
    "# lin_reg.fit(X_train, y_train)\n",
    "lin_reg.fit(X_train_scaled, y_train)\n",
    "\n",
    "# Predicciones en el conjunto de entrenamiento\n",
    "y_train_pred = lin_reg.predict(X_train_scaled)\n"
   ],
   "id": "d77493d92e059980",
   "outputs": [],
   "execution_count": 5
  },
  {
   "metadata": {
    "ExecuteTime": {
     "end_time": "2024-08-18T23:48:56.790610Z",
     "start_time": "2024-08-18T23:48:56.785215Z"
    }
   },
   "cell_type": "code",
   "source": [
    "y_bar = np.mean(y_train)\n",
    "y_hat = y_train_pred.copy()\n",
    "\n",
    "S_e = np.sum((y_train-y_hat)**2)\n",
    "S_t = np.sum((y_train-y_bar)**2)\n",
    "\n",
    "S_r = S_t - S_e\n",
    "print('S_e=', f'{S_e:.2f} - (Residuos)')\n",
    "print('S_r=', f'{S_r:.2f} - (Parte que explica el modelo)')\n",
    "print('S_t=', f'{S_t:.2f} - Varianza total')\n",
    "# S_r, S_e, S_t"
   ],
   "id": "d559721261ca47ef",
   "outputs": [
    {
     "name": "stdout",
     "output_type": "stream",
     "text": [
      "S_e= 7561.47 - (Residuos)\n",
      "S_r= 11794.46 - (Parte que explica el modelo)\n",
      "S_t= 19355.93 - Varianza total\n"
     ]
    }
   ],
   "execution_count": 6
  },
  {
   "metadata": {},
   "cell_type": "markdown",
   "source": "Ajuste",
   "id": "fd96c7b81b9850d6"
  },
  {
   "metadata": {
    "ExecuteTime": {
     "end_time": "2024-08-18T23:48:56.843951Z",
     "start_time": "2024-08-18T23:48:56.840624Z"
    }
   },
   "cell_type": "code",
   "source": [
    "N = len(X_train_scaled) # samples\n",
    "d = len(X_train_scaled.columns) # features\n",
    "\n",
    "s_e = np.sqrt(S_e/(N-d-1))\n",
    "print('s_e = ', s_e)"
   ],
   "id": "f052c809c0ad109e",
   "outputs": [
    {
     "name": "stdout",
     "output_type": "stream",
     "text": [
      "s_e =  0.7236600333345641\n"
     ]
    }
   ],
   "execution_count": 7
  },
  {
   "metadata": {
    "ExecuteTime": {
     "end_time": "2024-08-18T23:48:56.900359Z",
     "start_time": "2024-08-18T23:48:56.897082Z"
    }
   },
   "cell_type": "code",
   "source": [
    "#Coef de Pearson:\n",
    "R_2 = S_r/S_t\n",
    "print(\"R_2=\", R_2)"
   ],
   "id": "cffdabdabdf715d8",
   "outputs": [
    {
     "name": "stdout",
     "output_type": "stream",
     "text": [
      "R_2= 0.6093459727972159\n"
     ]
    }
   ],
   "execution_count": 8
  },
  {
   "metadata": {},
   "cell_type": "markdown",
   "source": [
    "El coeficiente de pearson nos dice que cuanto más cerca de 1 es mejor el ajuste por parte del modelo.\n",
    "\n",
    "En este caso podríamos argumentar que el coeficiente de pearson no da lo suficientemente cercano a 1. \n",
    "\n",
    "En el apartado teórico se menciona que este coeficiente puede dar mal en el caso de que los aparatos de medición sean de mala calidad (ya que aumentan la varianza y no es culpa del modelo), lo cual asumimos que no sucede en este dataset.\n",
    "\n",
    "Este modelo entonces es malo, esto puede ser debido a que no se hizo una limpieza del dataset como por ejemplo: Eliminar features altamente correlacionadas y outliers. Esto seguramente mejore el modelo bajo la premisa de que 'si entran basura, sale basura'.\n",
    "\n"
   ],
   "id": "6879c9284290018b"
  },
  {
   "metadata": {},
   "cell_type": "markdown",
   "source": "## 4.  Calcular las métricas de MSE, MAE y R2 del set de evaluación.",
   "id": "ff77982d2d6b49b7"
  },
  {
   "metadata": {
    "ExecuteTime": {
     "end_time": "2024-08-18T23:48:56.989630Z",
     "start_time": "2024-08-18T23:48:56.984154Z"
    }
   },
   "cell_type": "code",
   "source": [
    "y_test_pred = lin_reg.predict(X_test_scaled)\n",
    "mse = mean_squared_error(y_test, y_test_pred)\n",
    "mae = mean_absolute_error(y_test, y_test_pred)\n",
    "r2 = r2_score(y_test, y_test_pred)\n",
    "print('mse=', f'{mse:.3g}')\n",
    "print('mae=', f'{mae:.3g}')\n",
    "print('r2=', f'{r2:.3g}')"
   ],
   "id": "5ef61f2463a77093",
   "outputs": [
    {
     "name": "stdout",
     "output_type": "stream",
     "text": [
      "mse= 0.531\n",
      "mae= 0.527\n",
      "r2= 0.596\n"
     ]
    }
   ],
   "execution_count": 9
  },
  {
   "metadata": {},
   "cell_type": "markdown",
   "source": [
    "Aquí se puede observar que el MSE y el MAE dan resultados similares.\n",
    "Como se vió en el apartado teórico, el MSE es sensible a los outliers (debido a que está elevado al cuadrado), es por eso que podríamos pensar que el modelo está haciendo overfitting a los outliers (ya que el error entre el mse y el mae no es tan distinto)."
   ],
   "id": "86aaaac778537d04"
  },
  {
   "metadata": {},
   "cell_type": "markdown",
   "source": "## 5.   Crear una regresión de Ridge. Usando una validación cruzada de 5-folds y usando como métrica el MSE, calcular el mejor valor de α, buscando entre [0, 12.5]. Graficar el valor de MSE versus α",
   "id": "fa4120ed116bab65"
  },
  {
   "metadata": {
    "ExecuteTime": {
     "end_time": "2024-08-18T23:49:03.171143Z",
     "start_time": "2024-08-18T23:48:57.033803Z"
    }
   },
   "cell_type": "code",
   "source": [
    "alpha_values = np.linspace(0, 12.5, 100)\n",
    "MSE = np.array([])\n",
    "for alpha in alpha_values:\n",
    "    ridge_model = Ridge(alpha=alpha)\n",
    "    cv = cross_val_score(ridge_model, X_train_scaled, y=y_train, scoring=\"neg_mean_squared_error\", cv=5, n_jobs=-1)\n",
    "    mse = -cv.mean()\n",
    "    MSE = np.append(MSE, mse)\n",
    "\n",
    "idx = np.argmin(MSE)\n",
    "best_alpha = alpha_values[idx]\n",
    "best_mse = MSE[idx]\n",
    "plt.plot(alpha_values, MSE)\n",
    "plt.title('Alpha vs MSE')\n",
    "plt.plot(best_alpha, best_mse, label=f'Mínimo:  MSE:{best_mse:.10g} Alpha:{best_alpha:.4g}', marker='o')\n",
    "plt.legend()\n",
    "print('best_mse:', best_mse)"
   ],
   "id": "a9a63ac3e63bda5a",
   "outputs": [
    {
     "name": "stdout",
     "output_type": "stream",
     "text": [
      "best_mse: 0.526817576531949\n"
     ]
    },
    {
     "data": {
      "text/plain": [
       "<Figure size 640x480 with 1 Axes>"
      ],
      "image/png": "[encoded data removed]"
     },
     "metadata": {},
     "output_type": "display_data"
    }
   ],
   "execution_count": 10
  },
  {
   "metadata": {},
   "cell_type": "markdown",
   "source": [
    "## 6.   Comparar, entre la regresión lineal y la mejor regresión de Ridge, los resultados obtenidos en el set de evaluación. ¿Cuál da mejores resultados (usando MSE y MAE)? Conjeturar por qué el mejor modelo mejora. ¿Qué error puede haberse reducido?\n",
    "\n"
   ],
   "id": "dd8a7a2371d4664a"
  },
  {
   "metadata": {
    "ExecuteTime": {
     "end_time": "2024-08-18T23:49:03.229816Z",
     "start_time": "2024-08-18T23:49:03.207543Z"
    }
   },
   "cell_type": "code",
   "source": [
    "df = pd.DataFrame()\n",
    "models = []\n",
    "for name, model in zip(['Ridge', 'Regresión Lineal'],[Ridge(alpha=best_alpha), LinearRegression()]):\n",
    "    model.fit(X_train_scaled, y_train)\n",
    "    models.append(model)\n",
    "    y_test_pred = model.predict(X_test_scaled)\n",
    "    mse = mean_squared_error(y_test, y_test_pred)\n",
    "    mae = mean_absolute_error(y_test, y_test_pred)\n",
    "    r2 = r2_score(y_test, y_test_pred)\n",
    "    row = {\n",
    "        'Model': name,\n",
    "        'MSE': mse,\n",
    "        'MAE': mae,\n",
    "    }\n",
    "    \n",
    "    df = pd.concat([df, pd.DataFrame([row])], ignore_index=True)\n",
    "df"
   ],
   "id": "52af2c63705acbe2",
   "outputs": [
    {
     "data": {
      "text/plain": [
       "              Model       MSE       MAE\n",
       "0             Ridge  0.530415  0.527222\n",
       "1  Regresión Lineal  0.530568  0.527247"
      ],
      "text/html": [
       "<div>\n",
       "<style scoped>\n",
       "    .dataframe tbody tr th:only-of-type {\n",
       "        vertical-align: middle;\n",
       "    }\n",
       "\n",
       "    .dataframe tbody tr th {\n",
       "        vertical-align: top;\n",
       "    }\n",
       "\n",
       "    .dataframe thead th {\n",
       "        text-align: right;\n",
       "    }\n",
       "</style>\n",
       "<table border=\"1\" class=\"dataframe\">\n",
       "  <thead>\n",
       "    <tr style=\"text-align: right;\">\n",
       "      <th></th>\n",
       "      <th>Model</th>\n",
       "      <th>MSE</th>\n",
       "      <th>MAE</th>\n",
       "    </tr>\n",
       "  </thead>\n",
       "  <tbody>\n",
       "    <tr>\n",
       "      <th>0</th>\n",
       "      <td>Ridge</td>\n",
       "      <td>0.530415</td>\n",
       "      <td>0.527222</td>\n",
       "    </tr>\n",
       "    <tr>\n",
       "      <th>1</th>\n",
       "      <td>Regresión Lineal</td>\n",
       "      <td>0.530568</td>\n",
       "      <td>0.527247</td>\n",
       "    </tr>\n",
       "  </tbody>\n",
       "</table>\n",
       "</div>"
      ]
     },
     "execution_count": 11,
     "metadata": {},
     "output_type": "execute_result"
    }
   ],
   "execution_count": 11
  },
  {
   "metadata": {},
   "cell_type": "markdown",
   "source": [
    "Como se observó en el anterior punto, el MSE es sensible a outliers.\n",
    "En este caso si bien Ridge obtuvo un menor MSE, obtuvo un mayor MAE.\n",
    "\n",
    "Esto seguramente tenga que ver con que el Ridge tiende a generalizar más los otros tipos de datos (no outliers).\n",
    "Tiene sentido ya que a la regresión lineal le agregamos un término de regularización (alpha).\n",
    "$$\n",
    "\\sum_{i=0}^{N} (y_{[i]} - b - W^T X_{[i]}) + \\underbrace{\\alpha \\sum_{j=0}^{d-1} w_{j}^2}_\\text{regularización}\n",
    "$$\n",
    "\n",
    "Esta regularización justamente limita el crecimiento de los coeficientes (de esta forma generalizando mejor, evitando overfitting).\n",
    "\n"
   ],
   "id": "4b153541e51769e0"
  }
 ],
 "metadata": {
  "kernelspec": {
   "display_name": "Python 3",
   "language": "python",
   "name": "python3"
  },
  "language_info": {
   "codemirror_mode": {
    "name": "ipython",
    "version": 2
   },
   "file_extension": ".py",
   "mimetype": "text/x-python",
   "name": "python",
   "nbconvert_exporter": "python",
   "pygments_lexer": "ipython2",
   "version": "2.7.6"
  }
 },
 "nbformat": 4,
 "nbformat_minor": 5
}
